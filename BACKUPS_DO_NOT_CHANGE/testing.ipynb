{
 "cells": [
  {
   "cell_type": "code",
   "execution_count": 3,
   "id": "a990979c",
   "metadata": {},
   "outputs": [],
   "source": [
    "import mysql.connector"
   ]
  },
  {
   "cell_type": "code",
   "execution_count": 4,
   "id": "6d51f43b",
   "metadata": {},
   "outputs": [
    {
     "name": "stdout",
     "output_type": "stream",
     "text": [
      "Successfully connected to MySQL database!\n"
     ]
    }
   ],
   "source": [
    "mydb = mysql.connector.connect(\n",
    "        host=\"127.0.0.1\",\n",
    "        user=\"root\",\n",
    "        password=\"1234567890\",\n",
    "        database=\"classicmodels\"\n",
    "    )\n",
    "\n",
    "if mydb.is_connected():\n",
    "    print(\"Successfully connected to MySQL database!\")"
   ]
  },
  {
   "cell_type": "code",
   "execution_count": 5,
   "id": "8a42b71e",
   "metadata": {},
   "outputs": [
    {
     "name": "stdout",
     "output_type": "stream",
     "text": [
      "[['customers', 'customerNumber', 'int', None, 'NO'], ['customers', 'customerName', 'varchar', 50, 'NO'], ['customers', 'contactLastName', 'varchar', 50, 'NO'], ['customers', 'contactFirstName', 'varchar', 50, 'NO'], ['customers', 'phone', 'varchar', 50, 'NO'], ['customers', 'addressLine1', 'varchar', 50, 'NO'], ['customers', 'addressLine2', 'varchar', 50, 'YES'], ['customers', 'city', 'varchar', 50, 'NO'], ['customers', 'state', 'varchar', 50, 'YES'], ['customers', 'postalCode', 'varchar', 15, 'YES'], ['customers', 'country', 'varchar', 50, 'NO'], ['customers', 'salesRepEmployeeNumber', 'int', None, 'YES'], ['customers', 'creditLimit', 'decimal', None, 'YES'], ['employees', 'employeeNumber', 'int', None, 'NO'], ['employees', 'lastName', 'varchar', 50, 'NO'], ['employees', 'firstName', 'varchar', 50, 'NO'], ['employees', 'extension', 'varchar', 10, 'NO'], ['employees', 'email', 'varchar', 100, 'NO'], ['employees', 'officeCode', 'varchar', 10, 'NO'], ['employees', 'reportsTo', 'int', None, 'YES'], ['employees', 'jobTitle', 'varchar', 50, 'NO'], ['offices', 'officeCode', 'varchar', 10, 'NO'], ['offices', 'city', 'varchar', 50, 'NO'], ['offices', 'phone', 'varchar', 50, 'NO'], ['offices', 'addressLine1', 'varchar', 50, 'NO'], ['offices', 'addressLine2', 'varchar', 50, 'YES'], ['offices', 'state', 'varchar', 50, 'YES'], ['offices', 'country', 'varchar', 50, 'NO'], ['offices', 'postalCode', 'varchar', 15, 'NO'], ['offices', 'territory', 'varchar', 10, 'NO'], ['orderdetails', 'orderNumber', 'int', None, 'NO'], ['orderdetails', 'productCode', 'varchar', 15, 'NO'], ['orderdetails', 'quantityOrdered', 'int', None, 'NO'], ['orderdetails', 'priceEach', 'decimal', None, 'NO'], ['orderdetails', 'orderLineNumber', 'smallint', None, 'NO'], ['orders', 'orderNumber', 'int', None, 'NO'], ['orders', 'orderDate', 'date', None, 'NO'], ['orders', 'requiredDate', 'date', None, 'NO'], ['orders', 'shippedDate', 'date', None, 'YES'], ['orders', 'status', 'varchar', 15, 'NO'], ['orders', 'comments', 'text', 65535, 'YES'], ['orders', 'customerNumber', 'int', None, 'NO'], ['payments', 'customerNumber', 'int', None, 'NO'], ['payments', 'checkNumber', 'varchar', 50, 'NO'], ['payments', 'paymentDate', 'date', None, 'NO'], ['payments', 'amount', 'decimal', None, 'NO'], ['productlines', 'productLine', 'varchar', 50, 'NO'], ['productlines', 'textDescription', 'varchar', 4000, 'YES'], ['productlines', 'htmlDescription', 'mediumtext', 16777215, 'YES'], ['productlines', 'image', 'mediumblob', 16777215, 'YES'], ['products', 'productCode', 'varchar', 15, 'NO'], ['products', 'productName', 'varchar', 70, 'NO'], ['products', 'productLine', 'varchar', 50, 'NO'], ['products', 'productScale', 'varchar', 10, 'NO'], ['products', 'productVendor', 'varchar', 50, 'NO'], ['products', 'productDescription', 'text', 65535, 'NO'], ['products', 'quantityInStock', 'smallint', None, 'NO'], ['products', 'buyPrice', 'decimal', None, 'NO'], ['products', 'MSRP', 'decimal', None, 'NO']]\n"
     ]
    },
    {
     "data": {
      "text/plain": [
       "True"
      ]
     },
     "execution_count": 5,
     "metadata": {},
     "output_type": "execute_result"
    }
   ],
   "source": [
    "mycursor = mydb.cursor()\n",
    "mycursor.execute(\"\"\"SELECT\n",
    "    TABLE_SCHEMA,\n",
    "    TABLE_NAME,\n",
    "    COLUMN_NAME,\n",
    "    DATA_TYPE,\n",
    "    CHARACTER_MAXIMUM_LENGTH,\n",
    "    IS_NULLABLE\n",
    "    FROM\n",
    "    INFORMATION_SCHEMA.COLUMNS\n",
    "    WHERE\n",
    "    TABLE_SCHEMA = 'classicmodels'\n",
    "    ORDER BY\n",
    "    TABLE_SCHEMA,\n",
    "    TABLE_NAME,\n",
    "    ORDINAL_POSITION;\"\"\")\n",
    "\n",
    "myresult = mycursor.fetchall() # Fetches all rows\n",
    "db_list = [[row[1], row[2], row[3], row[4], row[5]] for row in myresult]\n",
    "    \n",
    "print(db_list)\n",
    "mycursor.close()"
   ]
  },
  {
   "cell_type": "code",
   "execution_count": 6,
   "id": "d4fd036f",
   "metadata": {},
   "outputs": [
    {
     "name": "stdout",
     "output_type": "stream",
     "text": [
      "{'customers': [['customerNumber', 'int', None, 'NO'], ['customerName', 'varchar', 50, 'NO'], ['contactLastName', 'varchar', 50, 'NO'], ['contactFirstName', 'varchar', 50, 'NO'], ['phone', 'varchar', 50, 'NO'], ['addressLine1', 'varchar', 50, 'NO'], ['addressLine2', 'varchar', 50, 'YES'], ['city', 'varchar', 50, 'NO'], ['state', 'varchar', 50, 'YES'], ['postalCode', 'varchar', 15, 'YES'], ['country', 'varchar', 50, 'NO'], ['salesRepEmployeeNumber', 'int', None, 'YES'], ['creditLimit', 'decimal', None, 'YES']], 'employees': [['employeeNumber', 'int', None, 'NO'], ['lastName', 'varchar', 50, 'NO'], ['firstName', 'varchar', 50, 'NO'], ['extension', 'varchar', 10, 'NO'], ['email', 'varchar', 100, 'NO'], ['officeCode', 'varchar', 10, 'NO'], ['reportsTo', 'int', None, 'YES'], ['jobTitle', 'varchar', 50, 'NO']], 'offices': [['officeCode', 'varchar', 10, 'NO'], ['city', 'varchar', 50, 'NO'], ['phone', 'varchar', 50, 'NO'], ['addressLine1', 'varchar', 50, 'NO'], ['addressLine2', 'varchar', 50, 'YES'], ['state', 'varchar', 50, 'YES'], ['country', 'varchar', 50, 'NO'], ['postalCode', 'varchar', 15, 'NO'], ['territory', 'varchar', 10, 'NO']], 'orderdetails': [['orderNumber', 'int', None, 'NO'], ['productCode', 'varchar', 15, 'NO'], ['quantityOrdered', 'int', None, 'NO'], ['priceEach', 'decimal', None, 'NO'], ['orderLineNumber', 'smallint', None, 'NO']], 'orders': [['orderNumber', 'int', None, 'NO'], ['orderDate', 'date', None, 'NO'], ['requiredDate', 'date', None, 'NO'], ['shippedDate', 'date', None, 'YES'], ['status', 'varchar', 15, 'NO'], ['comments', 'text', 65535, 'YES'], ['customerNumber', 'int', None, 'NO']], 'payments': [['customerNumber', 'int', None, 'NO'], ['checkNumber', 'varchar', 50, 'NO'], ['paymentDate', 'date', None, 'NO'], ['amount', 'decimal', None, 'NO']], 'productlines': [['productLine', 'varchar', 50, 'NO'], ['textDescription', 'varchar', 4000, 'YES'], ['htmlDescription', 'mediumtext', 16777215, 'YES'], ['image', 'mediumblob', 16777215, 'YES']], 'products': [['productCode', 'varchar', 15, 'NO'], ['productName', 'varchar', 70, 'NO'], ['productLine', 'varchar', 50, 'NO'], ['productScale', 'varchar', 10, 'NO'], ['productVendor', 'varchar', 50, 'NO'], ['productDescription', 'text', 65535, 'NO'], ['quantityInStock', 'smallint', None, 'NO'], ['buyPrice', 'decimal', None, 'NO'], ['MSRP', 'decimal', None, 'NO']]}\n"
     ]
    }
   ],
   "source": [
    "from collections import defaultdict\n",
    "\n",
    "result = defaultdict(list)\n",
    "\n",
    "for item in db_list:\n",
    "    key = item[0]\n",
    "    value = item[1:]\n",
    "    result[key].append(value)\n",
    "\n",
    "result_dict = dict(result)\n",
    "\n",
    "print(result_dict)"
   ]
  },
  {
   "cell_type": "code",
   "execution_count": 7,
   "id": "510d713b",
   "metadata": {},
   "outputs": [],
   "source": [
    "openrouter_key=\"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\""
   ]
  },
  {
   "cell_type": "code",
   "execution_count": 8,
   "id": "3442087a",
   "metadata": {},
   "outputs": [],
   "source": [
    "nl_query=\"Show me the latest 10 customers that have purchased 1993 Mazda RX-7\"\n",
    "SAFE_ROW_LIMIT=100"
   ]
  },
  {
   "cell_type": "code",
   "execution_count": null,
   "id": "d7f1f960",
   "metadata": {},
   "outputs": [],
   "source": [
    "import requests\n",
    "import json\n",
    "\n",
    "response = requests.post(\n",
    "  url=\"https://openrouter.ai/api/v1/chat/completions\",\n",
    "  headers={\n",
    "    \"Authorization\": \"Bearer <OPENROUTER_API_KEY>\",\n",
    "    \"Content-Type\": \"application/json\",\n",
    "    \n",
    "  },\n",
    "  data=json.dumps({\n",
    "    \"model\": \"x-ai/grok-4-fast:free\",\n",
    "    \"messages\": [\n",
    "      {\n",
    "        \"role\": \"user\",\n",
    "        \"content\": [\n",
    "          {\n",
    "            \"type\": \"text\",\n",
    "            \"text\": \"What is in this image?\"\n",
    "          },\n",
    "          {\n",
    "            \"type\": \"image_url\",\n",
    "            \"image_url\": {\n",
    "              \"url\": \"https://upload.wikimedia.org/wikipedia/commons/thumb/d/dd/Gfp-wisconsin-madison-the-nature-boardwalk.jpg/2560px-Gfp-wisconsin-madison-the-nature-boardwalk.jpg\"\n",
    "            }\n",
    "          }\n",
    "        ]\n",
    "      }\n",
    "    ],\n",
    "    \n",
    "  })\n",
    ")"
   ]
  },
  {
   "cell_type": "code",
   "execution_count": 10,
   "id": "ec826abc",
   "metadata": {},
   "outputs": [
    {
     "name": "stdout",
     "output_type": "stream",
     "text": [
      "Model Reply:\n",
      "SELECT c.customerNumber, c.customerName\n",
      "FROM customers c\n",
      "JOIN (\n",
      "    SELECT o.customerNumber, MAX(o.orderDate) AS latest_date\n",
      "    FROM orders o\n",
      "    JOIN orderdetails od ON o.orderNumber = od.orderNumber\n",
      "    JOIN products p ON od.productCode = p.productCode\n",
      "    WHERE p.productName = '1993 Mazda RX-7'\n",
      "    GROUP BY o.customerNumber\n",
      ") latest ON c.customerNumber = latest.customerNumber\n",
      "ORDER BY latest_date DESC\n",
      "LIMIT 10;\n"
     ]
    }
   ],
   "source": [
    "import requests\n",
    "import json\n",
    "import os\n",
    "\n",
    "\n",
    "url = \"https://openrouter.ai/api/v1/chat/completions\"\n",
    "headers = {\n",
    "    \"Authorization\": f\"Bearer {openrouter_key}\",\n",
    "    \"Content-Type\": \"application/json\",\n",
    "}\n",
    "\n",
    "payload = {\n",
    "    \"model\": \"x-ai/grok-4-fast:free\",\n",
    "    \"messages\": [\n",
    "        {\"role\": \"user\", \"content\": f\"\"\"\n",
    "    You are a SQL generation assistant for MySQL.\n",
    "    DB schema (showing tables and columns): {result_dict}\n",
    "\n",
    "    User request: {nl_query}\n",
    "\n",
    "    Generate a safe, read-only MySQL SELECT query that answers the request.\n",
    "    - Use correct column/table names from the schema.\n",
    "    - Do not run updates or deletes.\n",
    "    - If the user didn't ask for sorting/limit, apply LIMIT {SAFE_ROW_LIMIT}.\n",
    "    - Return only the SQL, no backticks or extra explanation.\n",
    "    \"\"\"}\n",
    "    ]\n",
    "}\n",
    "\n",
    "try:\n",
    "    response = requests.post(url, headers=headers, data=json.dumps(payload))\n",
    "    response.raise_for_status()\n",
    "    response_data = response.json()\n",
    "\n",
    "    model_reply = response_data[\"choices\"][0][\"message\"][\"content\"]\n",
    "    print(\"Model Reply:\")\n",
    "    print(model_reply)\n",
    "\n",
    "except requests.exceptions.RequestException as e:\n",
    "    print(f\"An error occurred during the API request: {e}\")\n",
    "    if hasattr(e, 'response') and e.response is not None:\n",
    "        print(f\"Response content: {e.response.text}\")\n",
    "except json.JSONDecodeError:\n",
    "    print(\"Failed to decode JSON response.\")\n",
    "    print(f\"Raw response content: {response.text}\")\n",
    "except Exception as e:\n",
    "    print(f\"An unexpected error occurred: {e}\")"
   ]
  },
  {
   "cell_type": "code",
   "execution_count": 9,
   "id": "c0ec3800",
   "metadata": {},
   "outputs": [
    {
     "name": "stdout",
     "output_type": "stream",
     "text": [
      "An error occurred during the API request: 404 Client Error: Not Found for url: https://openrouter.ai/api/v1/chat/completions\n",
      "Response content: {\"error\":{\"message\":\"No endpoints found for openrouter/sonoma-sky-alpha.\",\"code\":404},\"user_id\":\"user_30iby85ZmKpR1PJ7miumhTt0Wdn\"}\n"
     ]
    }
   ],
   "source": [
    "import requests\n",
    "import json\n",
    "import os\n",
    "\n",
    "\n",
    "url = \"https://openrouter.ai/api/v1/chat/completions\"\n",
    "headers = {\n",
    "    \"Authorization\": f\"Bearer {openrouter_key}\",\n",
    "    \"Content-Type\": \"application/json\",\n",
    "}\n",
    "\n",
    "payload = {\n",
    "    \"model\": \"openrouter/sonoma-sky-alpha\",\n",
    "    \"messages\": [\n",
    "        {\"role\": \"user\", \"content\": f\"\"\"\n",
    "    You are a SQL generation assistant for MySQL.\n",
    "    DB schema (showing tables and columns): {result_dict}\n",
    "\n",
    "    User request: {nl_query}\n",
    "\n",
    "    Generate a safe, read-only MySQL SELECT query that answers the request.\n",
    "    - Use correct column/table names from the schema.\n",
    "    - Do not run updates or deletes.\n",
    "    - If the user didn't ask for sorting/limit, apply LIMIT {SAFE_ROW_LIMIT}.\n",
    "    - Return only the SQL, no backticks or extra explanation.\n",
    "    \"\"\"}\n",
    "    ]\n",
    "}\n",
    "\n",
    "try:\n",
    "    response = requests.post(url, headers=headers, data=json.dumps(payload))\n",
    "    response.raise_for_status()\n",
    "    response_data = response.json()\n",
    "\n",
    "    model_reply = response_data[\"choices\"][0][\"message\"][\"content\"]\n",
    "    print(\"Model Reply:\")\n",
    "    print(model_reply)\n",
    "\n",
    "except requests.exceptions.RequestException as e:\n",
    "    print(f\"An error occurred during the API request: {e}\")\n",
    "    if hasattr(e, 'response') and e.response is not None:\n",
    "        print(f\"Response content: {e.response.text}\")\n",
    "except json.JSONDecodeError:\n",
    "    print(\"Failed to decode JSON response.\")\n",
    "    print(f\"Raw response content: {response.text}\")\n",
    "except Exception as e:\n",
    "    print(f\"An unexpected error occurred: {e}\")"
   ]
  },
  {
   "cell_type": "code",
   "execution_count": 67,
   "id": "3a76dff7",
   "metadata": {},
   "outputs": [
    {
     "name": "stdout",
     "output_type": "stream",
     "text": [
      "(382, 'Salzburg Collectables', 'Pipps', 'Georg ', '6562-9555', 'Salzburg', 'Austria', datetime.date(2005, 5, 17))\n",
      "(145, 'Danish Wholesale Imports', 'Petersen', 'Jytte ', '31 12 3555', 'Kobenhavn', 'Denmark', datetime.date(2005, 4, 15))\n",
      "(124, 'Mini Gifts Distributors Ltd.', 'Nelson', 'Susan', '4155551450', 'San Rafael', 'USA', datetime.date(2005, 3, 4))\n",
      "(186, 'Toys of Finland, Co.', 'Karttunen', 'Matti', '90-224 8555', 'Helsinki', 'Finland', datetime.date(2005, 2, 9))\n",
      "(320, 'Mini Creations Ltd.', 'Huang', 'Wing', '5085559555', 'New Bedford', 'USA', datetime.date(2005, 1, 7))\n",
      "(250, 'Lyon Souveniers', 'Da Silva', 'Daniel', '+33 1 46 62 7555', 'Paris', 'France', datetime.date(2004, 12, 9))\n",
      "(114, 'Australian Collectors, Co.', 'Ferguson', 'Peter', '03 9520 4555', 'Melbourne', 'Australia', datetime.date(2004, 11, 24))\n",
      "(486, 'Motor Mint Distributors Inc.', 'Salazar', 'Rosa', '2155559857', 'Philadelphia', 'USA', datetime.date(2004, 11, 17))\n",
      "(462, 'FunGiftIdeas.com', 'Benitez', 'Violeta', '5085552555', 'New Bedford', 'USA', datetime.date(2004, 11, 4))\n",
      "(259, 'Toms Spezialitäten, Ltd', 'Pfalzheim', 'Henriette ', '0221-5554327', 'Köln', 'Germany', datetime.date(2004, 10, 16))\n"
     ]
    },
    {
     "data": {
      "text/plain": [
       "True"
      ]
     },
     "execution_count": 67,
     "metadata": {},
     "output_type": "execute_result"
    }
   ],
   "source": [
    "mycursor = mydb.cursor()\n",
    "try:\n",
    "    mycursor.execute(model_reply)\n",
    "\n",
    "    myresult = mycursor.fetchall() # Fetches all rows\n",
    "    for row in myresult:\n",
    "        print(row)\n",
    "\n",
    "except Exception as e:\n",
    "    print(f\"Invalid query- {e}\")\n",
    "mycursor.close()"
   ]
  },
  {
   "cell_type": "code",
   "execution_count": 68,
   "id": "a0fe6783",
   "metadata": {},
   "outputs": [
    {
     "name": "stdout",
     "output_type": "stream",
     "text": [
      "[(382, 'Salzburg Collectables', 'Pipps', 'Georg ', '6562-9555', 'Salzburg', 'Austria', datetime.date(2005, 5, 17)), (145, 'Danish Wholesale Imports', 'Petersen', 'Jytte ', '31 12 3555', 'Kobenhavn', 'Denmark', datetime.date(2005, 4, 15)), (124, 'Mini Gifts Distributors Ltd.', 'Nelson', 'Susan', '4155551450', 'San Rafael', 'USA', datetime.date(2005, 3, 4)), (186, 'Toys of Finland, Co.', 'Karttunen', 'Matti', '90-224 8555', 'Helsinki', 'Finland', datetime.date(2005, 2, 9)), (320, 'Mini Creations Ltd.', 'Huang', 'Wing', '5085559555', 'New Bedford', 'USA', datetime.date(2005, 1, 7)), (250, 'Lyon Souveniers', 'Da Silva', 'Daniel', '+33 1 46 62 7555', 'Paris', 'France', datetime.date(2004, 12, 9)), (114, 'Australian Collectors, Co.', 'Ferguson', 'Peter', '03 9520 4555', 'Melbourne', 'Australia', datetime.date(2004, 11, 24)), (486, 'Motor Mint Distributors Inc.', 'Salazar', 'Rosa', '2155559857', 'Philadelphia', 'USA', datetime.date(2004, 11, 17)), (462, 'FunGiftIdeas.com', 'Benitez', 'Violeta', '5085552555', 'New Bedford', 'USA', datetime.date(2004, 11, 4)), (259, 'Toms Spezialitäten, Ltd', 'Pfalzheim', 'Henriette ', '0221-5554327', 'Köln', 'Germany', datetime.date(2004, 10, 16))]\n"
     ]
    }
   ],
   "source": [
    "print(myresult)"
   ]
  },
  {
   "cell_type": "code",
   "execution_count": null,
   "id": "8ec1db6f",
   "metadata": {},
   "outputs": [
    {
     "name": "stdout",
     "output_type": "stream",
     "text": [
      "Model Reply:\n",
      "### Latest 10 Customers Who Purchased the 1993 Mazda RX-7\n",
      "\n",
      "Below is the list of the 10 most recent customers who have purchased the \"1993 Mazda RX-7\", based on their latest purchase date. They are ordered from most recent to oldest. Each entry includes the customer ID, company name, contact details, phone, city, country, and the date of their most recent purchase of this product.\n",
      "\n",
      "1. **Customer ID: 382**  \n",
      "   Company: Salzburg Collectables  \n",
      "   Contact: Georg Pipps  \n",
      "   Phone: 6562-9555  \n",
      "   City: Salzburg  \n",
      "   Country: Austria  \n",
      "   Last Purchase Date: 2005-05-17\n",
      "\n",
      "2. **Customer ID: 145**  \n",
      "   Company: Danish Wholesale Imports  \n",
      "   Contact: Jytte Petersen  \n",
      "   Phone: 31 12 3555  \n",
      "   City: Kobenhavn  \n",
      "   Country: Denmark  \n",
      "   Last Purchase Date: 2005-04-15\n",
      "\n",
      "3. **Customer ID: 124**  \n",
      "   Company: Mini Gifts Distributors Ltd.  \n",
      "   Contact: Susan Nelson  \n",
      "   Phone: 4155551450  \n",
      "   City: San Rafael  \n",
      "   Country: USA  \n",
      "   Last Purchase Date: 2005-03-04\n",
      "\n",
      "4. **Customer ID: 186**  \n",
      "   Company: Toys of Finland, Co.  \n",
      "   Contact: Matti Karttunen  \n",
      "   Phone: 90-224 8555  \n",
      "   City: Helsinki  \n",
      "   Country: Finland  \n",
      "   Last Purchase Date: 2005-02-09\n",
      "\n",
      "5. **Customer ID: 320**  \n",
      "   Company: Mini Creations Ltd.  \n",
      "   Contact: Wing Huang  \n",
      "   Phone: 5085559555  \n",
      "   City: New Bedford  \n",
      "   Country: USA  \n",
      "   Last Purchase Date: 2005-01-07\n",
      "\n",
      "6. **Customer ID: 250**  \n",
      "   Company: Lyon Souveniers  \n",
      "   Contact: Daniel Da Silva  \n",
      "   Phone: +33 1 46 62 7555  \n",
      "   City: Paris  \n",
      "   Country: France  \n",
      "   Last Purchase Date: 2004-12-09\n",
      "\n",
      "7. **Customer ID: 114**  \n",
      "   Company: Australian Collectors, Co.  \n",
      "   Contact: Peter Ferguson  \n",
      "   Phone: 03 9520 4555  \n",
      "   City: Melbourne  \n",
      "   Country: Australia  \n",
      "   Last Purchase Date: 2004-11-24\n",
      "\n",
      "8. **Customer ID: 486**  \n",
      "   Company: Motor Mint Distributors Inc.  \n",
      "   Contact: Rosa Salazar  \n",
      "   Phone: 2155559857  \n",
      "   City: Philadelphia  \n",
      "   Country: USA  \n",
      "   Last Purchase Date: 2004-11-17\n",
      "\n",
      "9. **Customer ID: 462**  \n",
      "   Company: FunGiftIdeas.com  \n",
      "   Contact: Violeta Benitez  \n",
      "   Phone: 5085552555  \n",
      "   City: New Bedford  \n",
      "   Country: USA  \n",
      "   Last Purchase Date: 2004-11-04\n",
      "\n",
      "10. **Customer ID: 259**  \n",
      "    Company: Toms Spezialitäten, Ltd  \n",
      "    Contact: Henriette Pfalzheim  \n",
      "    Phone: 0221-5554327  \n",
      "    City: Köln  \n",
      "    Country: Germany  \n",
      "    Last Purchase Date: 2004-10-16\n",
      "\n",
      "This data is derived directly from the previous query results, which joined customer details with their most recent orders for the specified product. If you need more details (e.g., order quantities or full order history), let me know!\n"
     ]
    }
   ],
   "source": [
    "import requests\n",
    "import json\n",
    "import os\n",
    "\n",
    "\n",
    "url = \"https://openrouter.ai/api/v1/chat/completions\"\n",
    "headers = {\n",
    "    \"Authorization\": f\"Bearer {openrouter_key}\",\n",
    "    \"Content-Type\": \"application/json\",\n",
    "}\n",
    "\n",
    "payload = {\n",
    "    \"model\": \"openrouter/sonoma-sky-alpha\",\n",
    "    \"messages\": [\n",
    "        {\"role\": \"user\", \"content\": f\"\"\"\n",
    "    You are a SQL generation assistant for MySQL. Answer the question from the result ouputted from a previous SQL query. Explain it in a concise direct manner.\n",
    "\n",
    "    Question: {nl_query}\n",
    "\n",
    "    Previous Output- {myresult}\n",
    "\n",
    "    Previous Query- {model_reply}\n",
    "    \"\"\"}\n",
    "    ]\n",
    "}\n",
    "\n",
    "try:\n",
    "    response = requests.post(url, headers=headers, data=json.dumps(payload))\n",
    "    response.raise_for_status()\n",
    "    response_data = response.json()\n",
    "\n",
    "    model_answer = response_data[\"choices\"][0][\"message\"][\"content\"]\n",
    "    print(\"Model Reply:\")\n",
    "    print(model_answer)\n",
    "\n",
    "except requests.exceptions.RequestException as e:\n",
    "    print(f\"An error occurred during the API request: {e}\")\n",
    "    if hasattr(e, 'response') and e.response is not None:\n",
    "        print(f\"Response content: {e.response.text}\")\n",
    "except json.JSONDecodeError:\n",
    "    print(\"Failed to decode JSON response.\")\n",
    "    print(f\"Raw response content: {response.text}\")\n",
    "except Exception as e:\n",
    "    print(f\"An unexpected error occurred: {e}\")"
   ]
  },
  {
   "cell_type": "code",
   "execution_count": 71,
   "id": "be6bba5d",
   "metadata": {},
   "outputs": [
    {
     "name": "stdout",
     "output_type": "stream",
     "text": [
      "Your API Key: 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\n"
     ]
    }
   ],
   "source": [
    "import os\n",
    "from dotenv import load_dotenv\n",
    "\n",
    "# Load environment variables from .env file\n",
    "load_dotenv()\n",
    "\n",
    "# Access the API key\n",
    "api_key = os.getenv(\"openrouter_key\")\n",
    "\n",
    "# Now you can use api_key in your application\n",
    "print(f\"Your API Key: {openrouter_key}\")"
   ]
  },
  {
   "cell_type": "code",
   "execution_count": null,
   "id": "a0f571c0",
   "metadata": {},
   "outputs": [
    {
     "name": "stdout",
     "output_type": "stream",
     "text": [
      "def fibonacci(n):\n",
      "    a, b = 0, 1\n",
      "    for _ in range(n):\n",
      "        print(a, end=\" \")\n",
      "        a, b = b, a + b\n"
     ]
    }
   ],
   "source": []
  },
  {
   "cell_type": "code",
   "execution_count": null,
   "id": "a3505eec",
   "metadata": {},
   "outputs": [],
   "source": []
  }
 ],
 "metadata": {
  "kernelspec": {
   "display_name": "venv",
   "language": "python",
   "name": "python3"
  },
  "language_info": {
   "codemirror_mode": {
    "name": "ipython",
    "version": 3
   },
   "file_extension": ".py",
   "mimetype": "text/x-python",
   "name": "python",
   "nbconvert_exporter": "python",
   "pygments_lexer": "ipython3",
   "version": "3.12.3"
  }
 },
 "nbformat": 4,
 "nbformat_minor": 5
}
